{
  "nbformat": 4,
  "nbformat_minor": 0,
  "metadata": {
    "colab": {
      "provenance": [],
      "gpuType": "T4"
    },
    "kernelspec": {
      "name": "python3",
      "display_name": "Python 3"
    },
    "language_info": {
      "name": "python"
    },
    "accelerator": "GPU"
  },
  "cells": [
    {
      "cell_type": "code",
      "source": [
        "!ls /usr/local"
      ],
      "metadata": {
        "colab": {
          "base_uri": "https://localhost:8080/"
        },
        "id": "JOkjAPcwmpHG",
        "outputId": "1df07016-0585-4641-e100-4e5dd5a5b286"
      },
      "execution_count": 53,
      "outputs": [
        {
          "output_type": "stream",
          "name": "stdout",
          "text": [
            "bin  colab  cuda  cuda-12  cuda-12.2  etc  games  include  lib\tlib64  man  opt  sbin  share  src\n"
          ]
        }
      ]
    },
    {
      "cell_type": "code",
      "source": [
        "!which nvcc"
      ],
      "metadata": {
        "colab": {
          "base_uri": "https://localhost:8080/"
        },
        "id": "zl3uPf5amprj",
        "outputId": "98bb8780-c318-448a-872a-1afcb5f1b43e"
      },
      "execution_count": 54,
      "outputs": [
        {
          "output_type": "stream",
          "name": "stdout",
          "text": [
            "/usr/local/cuda/bin/nvcc\n"
          ]
        }
      ]
    },
    {
      "cell_type": "code",
      "source": [
        "!nvidia-smi"
      ],
      "metadata": {
        "colab": {
          "base_uri": "https://localhost:8080/"
        },
        "id": "MuS2wBvBnJO3",
        "outputId": "fa4c4df3-587c-4b68-fd82-804787881077"
      },
      "execution_count": 56,
      "outputs": [
        {
          "output_type": "stream",
          "name": "stdout",
          "text": [
            "Thu Sep 12 00:22:58 2024       \n",
            "+---------------------------------------------------------------------------------------+\n",
            "| NVIDIA-SMI 535.104.05             Driver Version: 535.104.05   CUDA Version: 12.2     |\n",
            "|-----------------------------------------+----------------------+----------------------+\n",
            "| GPU  Name                 Persistence-M | Bus-Id        Disp.A | Volatile Uncorr. ECC |\n",
            "| Fan  Temp   Perf          Pwr:Usage/Cap |         Memory-Usage | GPU-Util  Compute M. |\n",
            "|                                         |                      |               MIG M. |\n",
            "|=========================================+======================+======================|\n",
            "|   0  Tesla T4                       Off | 00000000:00:04.0 Off |                    0 |\n",
            "| N/A   44C    P8              11W /  70W |      0MiB / 15360MiB |      0%      Default |\n",
            "|                                         |                      |                  N/A |\n",
            "+-----------------------------------------+----------------------+----------------------+\n",
            "                                                                                         \n",
            "+---------------------------------------------------------------------------------------+\n",
            "| Processes:                                                                            |\n",
            "|  GPU   GI   CI        PID   Type   Process name                            GPU Memory |\n",
            "|        ID   ID                                                             Usage      |\n",
            "|=======================================================================================|\n",
            "|  No running processes found                                                           |\n",
            "+---------------------------------------------------------------------------------------+\n"
          ]
        }
      ]
    },
    {
      "cell_type": "code",
      "execution_count": 51,
      "metadata": {
        "colab": {
          "base_uri": "https://localhost:8080/"
        },
        "id": "N8Ve3BH2g2cu",
        "outputId": "2f64cf67-0f8b-4e75-9fd3-781a36d552e0"
      },
      "outputs": [
        {
          "output_type": "stream",
          "name": "stdout",
          "text": [
            "Overwriting helloworld.cu\n"
          ]
        }
      ],
      "source": [
        "%%writefile helloworld.cu\n",
        "\n",
        "#include \"stdio.h\"\n",
        "#include \"stdlib.h\"\n",
        "#include \"cuda_runtime.h\"\n",
        "\n",
        "__global__ void kernel(){\n",
        "  printf(\"Olá mundo de device usando CUDA\\n\");\n",
        "}\n",
        "\n",
        "int main(){\n",
        "  printf(\"No Host \\n\")/\n",
        "  printf(\"Iniciando Kernel no device...\\n\");\n",
        "  kernel<<<1,5>>>();\n",
        "  cudaDeviceReset();\n",
        "  cudaDeviceSynchronize();\n",
        "  return 0;\n",
        "}"
      ]
    },
    {
      "cell_type": "code",
      "source": [
        "!ls"
      ],
      "metadata": {
        "colab": {
          "base_uri": "https://localhost:8080/"
        },
        "id": "q86Uz2f_iDs6",
        "outputId": "99f9f869-5037-49b1-ab04-c552aab50470"
      },
      "execution_count": 43,
      "outputs": [
        {
          "output_type": "stream",
          "name": "stdout",
          "text": [
            "cudabase  cudabase.cu  helloworld  helloworld.cu  sample_data\n"
          ]
        }
      ]
    },
    {
      "cell_type": "code",
      "source": [
        "!nvcc helloworld.cu -o helloworld\n",
        "\n",
        "# Caso de erro na versão instalada do cuda\n",
        "\n",
        "# 1\n",
        "# !nvcc -arch=sm_37 -gencode=arch=compute_37,code=sm_37 hello.cu -o hello\n",
        "\n",
        "# 2\n",
        "# !rm -rf /usr/local/cuda\n",
        "# !ln -s /usr/local/cuda-10.1 /usr/local/cuda\n",
        "# !nvcc hello.cu -o hello"
      ],
      "metadata": {
        "id": "pRYNgmQ8iF1x"
      },
      "execution_count": 55,
      "outputs": []
    },
    {
      "cell_type": "code",
      "source": [
        "!./helloworld"
      ],
      "metadata": {
        "colab": {
          "base_uri": "https://localhost:8080/"
        },
        "id": "QMVseHbXipmg",
        "outputId": "3fecaa49-1e17-447a-a810-7d83cb032c26"
      },
      "execution_count": 50,
      "outputs": [
        {
          "output_type": "stream",
          "name": "stdout",
          "text": [
            "No Host \n",
            "Iniciando Kernel no device...\n",
            "Olá mundo de device usando CUDA\n",
            "Olá mundo de device usando CUDA\n",
            "Olá mundo de device usando CUDA\n",
            "Olá mundo de device usando CUDA\n",
            "Olá mundo de device usando CUDA\n",
            "Olá mundo de device usando CUDA\n",
            "Olá mundo de device usando CUDA\n",
            "Olá mundo de device usando CUDA\n",
            "Olá mundo de device usando CUDA\n",
            "Olá mundo de device usando CUDA\n"
          ]
        }
      ]
    }
  ]
}